{
 "cells": [
  {
   "cell_type": "code",
   "execution_count": 1,
   "metadata": {},
   "outputs": [
    {
     "name": "stdout",
     "output_type": "stream",
     "text": [
      "Seed: Ansatzyoghurt\n",
      "Lukas schenkt an Maria\n",
      "Annika schenkt an Thomas\n",
      "Maria schenkt an Annika\n",
      "Thomas schenkt an Lukas\n"
     ]
    }
   ],
   "source": [
    "import random\n",
    "\n",
    "receivers = ['Lukas', 'Annika', 'Maria', 'Thomas']\n",
    "givers = receivers[:]\n",
    "ourSeed = 'Ansatzyoghurt'\n",
    "random.seed(ourSeed)\n",
    "random.shuffle(receivers)\n",
    "\n",
    "print('Seed:', ourSeed)\n",
    "\n",
    "for g in givers:\n",
    "    r = receivers[-1]\n",
    "    if r!=g:\n",
    "        receivers.pop()\n",
    "        print(g, 'schenkt an', r)\n",
    "    else:\n",
    "        r = receivers.pop(-2)\n",
    "        print(g, 'schenkt an', r)"
   ]
  },
  {
   "cell_type": "code",
   "execution_count": null,
   "metadata": {},
   "outputs": [],
   "source": []
  }
 ],
 "metadata": {
  "kernelspec": {
   "display_name": "Python 3",
   "language": "python",
   "name": "python3"
  },
  "language_info": {
   "codemirror_mode": {
    "name": "ipython",
    "version": 3
   },
   "file_extension": ".py",
   "mimetype": "text/x-python",
   "name": "python",
   "nbconvert_exporter": "python",
   "pygments_lexer": "ipython3",
   "version": "3.6.0"
  }
 },
 "nbformat": 4,
 "nbformat_minor": 2
}
