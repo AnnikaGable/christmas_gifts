{
 "cells": [
  {
   "cell_type": "code",
   "execution_count": 1,
   "metadata": {},
   "outputs": [
    {
     "name": "stdout",
     "output_type": "stream",
     "text": [
      "Seed: Ohrenschmalz\n",
      "Mama schenkt an Annika\n",
      "Thomas schenkt an Maria\n",
      "Maria schenkt an Lukas\n",
      "Annika schenkt an Mama\n",
      "Lukas schenkt an Thomas\n"
     ]
    }
   ],
   "source": [
    "import random\n",
    "\n",
    "receivers = ['Lukas', 'Annika', 'Maria', 'Thomas', 'Mama']\n",
    "givers = receivers[:]\n",
    "ourSeed = 'Ohrenschmalz'\n",
    "random.seed(ourSeed)\n",
    "random.shuffle(receivers)\n",
    "\n",
    "print('Seed:', ourSeed)\n",
    "\n",
    "while givers:\n",
    "    g = givers.pop()\n",
    "    others = [r for r in receivers if r != g]\n",
    "    r = others.pop()\n",
    "    receivers = [g] + others \n",
    "    print(g, 'schenkt an', r)\n"
   ]
  },
  {
   "cell_type": "code",
   "execution_count": null,
   "metadata": {},
   "outputs": [],
   "source": []
  }
 ],
 "metadata": {
  "kernelspec": {
   "display_name": "Python 3",
   "language": "python",
   "name": "python3"
  },
  "language_info": {
   "codemirror_mode": {
    "name": "ipython",
    "version": 3
   },
   "file_extension": ".py",
   "mimetype": "text/x-python",
   "name": "python",
   "nbconvert_exporter": "python",
   "pygments_lexer": "ipython3",
   "version": "3.7.3"
  }
 },
 "nbformat": 4,
 "nbformat_minor": 2
}
